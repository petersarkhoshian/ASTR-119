
{
 "cells": [
  {
   "cell_type": "markdown",
   "id": "b7854240",
   "metadata": {},
   "source": [
    "# ASTR 119 Homework 5"
   ]
  },
  {
   "cell_type": "markdown",
   "id": "11b25e84",
   "metadata": {},
   "source": [
    "Importing packages"
   ]
  },
  {
   "cell_type": "code",
   "execution_count": 1,
   "id": "c96d3812",
   "metadata": {},
   "outputs": [],
   "source": [
    "%matplotlib inline\n",
    "import numpy as np\n",
    "import matplotlib.pyplot as plt"
   ]
  },
  {
   "cell_type": "markdown",
   "id": "4dcf78dd",
   "metadata": {},
   "source": [
    "Define the main function"
   ]
  },
  {
   "cell_type": "code",
   "execution_count": 2,
   "id": "a7638c1a",
   "metadata": {},
   "outputs": [],
   "source": [
    "def func(x):\n",
    "    a = -2.0\n",
    "    b = 10\n",
    "    return (np.exp(a*x)) * (np.cos(b*x))"
   ]
  },
  {
   "cell_type": "markdown",
   "id": "9adbfb0c",
   "metadata": {},
   "source": [
    "Define the correct function's integral"
   ]
  },
  {
   "cell_type": "code",
   "execution_count": 3,
   "id": "756a3b2a",
   "metadata": {},
   "outputs": [],
   "source": [
    "def func_integral(x):\n",
    "    a = -2.0\n",
    "    b = 10.0\n",
    "    return ((np.exp(a*x)*(5*np.sin(b*x)-np.cos(b*x)))/52)"
   ]
  },
  {
   "cell_type": "markdown",
   "id": "7ddef075",
   "metadata": {},
   "source": [
    "Define the core for the trapezoid method"
   ]
  },
  {
   "cell_type": "code",
   "execution_count": 4,
   "id": "930e0331",
   "metadata": {},
   "outputs": [],
   "source": [
    "def trapezoid_core(f, x, h):\n",
    "    return 0.5 * h * ((f(x + h)) + f(x))"
   ]
  },
  {
   "cell_type": "markdown",
   "id": "46217067",
   "metadata": {},
   "source": [
    "Define the trapezoid integration method"
   ]
  },
  {
   "cell_type": "code",
   "execution_count": 5,
   "id": "aadafc3c",
   "metadata": {},
   "outputs": [],
   "source": [
    "def trapezoid_method(f, a, b, N):\n",
    "\n",
    "    x = np.linspace(a, b, N)\n",
    "    h = x[1] - x[0]\n",
    "\n",
    "    Fint = 0.0\n",
    "\n",
    "    for i in range(0, len(x) - 1, 1):\n",
    "        Fint += trapezoid_core(f, x[i], h)\n",
    "\n",
    "    return Fint"
   ]
  },
  {
   "cell_type": "markdown",
   "id": "8144f4f4",
   "metadata": {},
   "source": [
    "Define the core for Simpson's method"
   ]
  },
  {
   "cell_type": "code",
   "execution_count": 6,
   "id": "94b96f24",
   "metadata": {},
   "outputs": [],
   "source": [
    "def simpson_core(f, x, h):\n",
    "    return h * (f(x) + 4 * f(x + h) + f(x + 2 * h)) / 3."
   ]
  },
  {
   "cell_type": "markdown",
   "id": "ce838e8f",
   "metadata": {},
   "source": [
    "Define Simpson's integration method"
   ]
  },
  {
   "cell_type": "code",
   "execution_count": 7,
   "id": "26b47351",
   "metadata": {},
   "outputs": [],
   "source": [
    "def simpson_method(f, a, b, N):\n",
    "\n",
    "    x = np.linspace(a, b, N)\n",
    "    h = x[1] - x[0]\n",
    "\n",
    "    Fint = 0.0\n",
    "\n",
    "    for i in range(0, len(x) - 2, 2):\n",
    "        Fint += simpson_core(f, x[i], h)\n",
    "\n",
    "        if ((N % 2) == 0):\n",
    "            Fint += simpson_core(f, x[-2], 0.5 * h)\n",
    "\n",
    "    return Fint"
   ]
  },
  {
   "cell_type": "markdown",
   "id": "1e3619a1",
   "metadata": {},
   "source": [
    "Define the core for the Romberg method"
   ]
  },
  {
   "cell_type": "code",
   "execution_count": 8,
   "id": "ad4838cf",
   "metadata": {},
   "outputs": [],
   "source": [
    "def romberg_core(f, a, b, i):\n",
    "    h = b - a\n",
    "\n",
    "    dh = h / 2.**(i)\n",
    "    K = h / 2.**(i + 1)\n",
    "\n",
    "    M = 0.0\n",
    "    for j in range(2**i):\n",
    "        M += f(a + 0.5 * dh + j * dh)\n",
    "\n",
    "    return K * M"
   ]
  },
  {
   "cell_type": "markdown",
   "id": "8ca36eed",
   "metadata": {},
   "source": [
    "Define the Romberg integration method"
   ]
  },
  {
   "cell_type": "code",
   "execution_count": 9,
   "id": "17f22cb0",
   "metadata": {},
   "outputs": [],
   "source": [
    "def romberg_integration(f, a, b, tol):\n",
    "    i = 0\n",
    "    imax = 1000\n",
    "    delta = 100.0 * np.fabs(tol)\n",
    "\n",
    "    I = np.zeros(imax, dtype=float)\n",
    "    I[0] = 0.5 * (b - a) * (f(a) + f(b))\n",
    "    i += 1\n",
    "\n",
    "    while (delta > tol):\n",
    "        I[i] = 0.5 * I[i - 1] + romberg_core(f, a, b, i)\n",
    "        delta = np.fabs((I[i] - I[i - 1]) / I[i])\n",
    "\n",
    "        if (delta > tol):\n",
    "            i += 1\n",
    "            if (i > imax):\n",
    "                print(\"Max iterations reached.\")\n",
    "                raise StopIteration(\"Stopping iterations after \", i)\n",
    "            print(\"Romberg iteration # \", i, \"has error of: \",delta)\n",
    "\n",
    "    return I[i]"
   ]
  },
  {
   "cell_type": "markdown",
   "id": "eaf208b5",
   "metadata": {},
   "source": [
    "Solve for the answers of each integration method"
   ]
  },
  {
   "cell_type": "code",
   "execution_count": 10,
   "id": "5cde54c8",
   "metadata": {},
   "outputs": [
    {
     "name": "stdout",
     "output_type": "stream",
     "text": [
      "Analytical answer =  0.019194856870544078\n",
      "Trapezoid method =  0.019196502101713274 using  1000 intervals\n",
      "Simpson's method =  0.022128316594398373 using  2500 intervals\n",
      "Romberg iteration #  2 has error of:  1.0\n",
      "Romberg iteration #  3 has error of:  1.6451034648327187\n",
      "Romberg iteration #  4 has error of:  1.222183937270994\n",
      "Romberg iteration #  5 has error of:  0.8017535754985687\n",
      "Romberg iteration #  6 has error of:  0.6043353825275767\n",
      "Romberg iteration #  7 has error of:  0.41838340126854\n",
      "Romberg iteration #  8 has error of:  0.26076270173022315\n",
      "Romberg iteration #  9 has error of:  0.14896449641170112\n",
      "Romberg iteration #  10 has error of:  0.08023266741622372\n",
      "Romberg iteration #  11 has error of:  0.041731807247480004\n",
      "Romberg iteration #  12 has error of:  0.02129527774678078\n",
      "Romberg iteration #  13 has error of:  0.010758407763509729\n",
      "Romberg iteration #  14 has error of:  0.005407340284398829\n",
      "Romberg iteration #  15 has error of:  0.0027107608062554305\n",
      "Romberg iteration #  16 has error of:  0.0013571602059316483\n",
      "Romberg iteration #  17 has error of:  0.0006790259499640058\n",
      "Romberg iteration #  18 has error of:  0.0003396245490234728\n",
      "Romberg iteration #  19 has error of:  0.0001698401820820051\n",
      "Romberg iteration #  20 has error of:  8.492706966926287e-05\n",
      "Romberg iteration #  21 has error of:  4.246527979663633e-05\n",
      "Romberg iteration #  22 has error of:  2.1233076106515646e-05\n",
      "Romberg iteration #  23 has error of:  1.0616647138248912e-05\n",
      "Romberg iteration #  24 has error of:  5.308350921731978e-06\n",
      "Romberg iteration #  25 has error of:  2.6541821678933438e-06\n"
     ]
    },
    {
     "ename": "KeyboardInterrupt",
     "evalue": "",
     "output_type": "error",
     "traceback": [
      "\u001b[1;31m---------------------------------------------------------------------------\u001b[0m",
      "\u001b[1;31mKeyboardInterrupt\u001b[0m                         Traceback (most recent call last)",
      "\u001b[1;32m<ipython-input-10-890671e05389>\u001b[0m in \u001b[0;36m<module>\u001b[1;34m\u001b[0m\n\u001b[0;32m     11\u001b[0m       Num_simp, \"intervals\")\n\u001b[0;32m     12\u001b[0m \u001b[0mtolerance\u001b[0m \u001b[1;33m=\u001b[0m \u001b[1;36m1.0e-6\u001b[0m\u001b[1;33m\u001b[0m\u001b[1;33m\u001b[0m\u001b[0m\n\u001b[1;32m---> 13\u001b[1;33m \u001b[0mRI\u001b[0m \u001b[1;33m=\u001b[0m \u001b[0mromberg_integration\u001b[0m\u001b[1;33m(\u001b[0m\u001b[0mfunc\u001b[0m\u001b[1;33m,\u001b[0m \u001b[0mlower_lim\u001b[0m\u001b[1;33m,\u001b[0m \u001b[0mupper_lim\u001b[0m\u001b[1;33m,\u001b[0m \u001b[0mtolerance\u001b[0m\u001b[1;33m)\u001b[0m\u001b[1;33m\u001b[0m\u001b[1;33m\u001b[0m\u001b[0m\n\u001b[0m\u001b[0;32m     14\u001b[0m \u001b[0mprint\u001b[0m\u001b[1;33m(\u001b[0m\u001b[1;34m\"Romberg = \"\u001b[0m\u001b[1;33m,\u001b[0m \u001b[0mRI\u001b[0m\u001b[1;33m,\u001b[0m \u001b[1;34m\" with tolerance = \"\u001b[0m\u001b[1;33m,\u001b[0m \u001b[0mtolerance\u001b[0m\u001b[1;33m)\u001b[0m\u001b[1;33m\u001b[0m\u001b[1;33m\u001b[0m\u001b[0m\n",
      "\u001b[1;32m<ipython-input-9-df0ceb0378e8>\u001b[0m in \u001b[0;36mromberg_integration\u001b[1;34m(f, a, b, tol)\u001b[0m\n\u001b[0;32m      9\u001b[0m \u001b[1;33m\u001b[0m\u001b[0m\n\u001b[0;32m     10\u001b[0m     \u001b[1;32mwhile\u001b[0m \u001b[1;33m(\u001b[0m\u001b[0mdelta\u001b[0m \u001b[1;33m>\u001b[0m \u001b[0mtol\u001b[0m\u001b[1;33m)\u001b[0m\u001b[1;33m:\u001b[0m\u001b[1;33m\u001b[0m\u001b[1;33m\u001b[0m\u001b[0m\n\u001b[1;32m---> 11\u001b[1;33m         \u001b[0mI\u001b[0m\u001b[1;33m[\u001b[0m\u001b[0mi\u001b[0m\u001b[1;33m]\u001b[0m \u001b[1;33m=\u001b[0m \u001b[1;36m0.5\u001b[0m \u001b[1;33m*\u001b[0m \u001b[0mI\u001b[0m\u001b[1;33m[\u001b[0m\u001b[0mi\u001b[0m \u001b[1;33m-\u001b[0m \u001b[1;36m1\u001b[0m\u001b[1;33m]\u001b[0m \u001b[1;33m+\u001b[0m \u001b[0mromberg_core\u001b[0m\u001b[1;33m(\u001b[0m\u001b[0mf\u001b[0m\u001b[1;33m,\u001b[0m \u001b[0ma\u001b[0m\u001b[1;33m,\u001b[0m \u001b[0mb\u001b[0m\u001b[1;33m,\u001b[0m \u001b[0mi\u001b[0m\u001b[1;33m)\u001b[0m\u001b[1;33m\u001b[0m\u001b[1;33m\u001b[0m\u001b[0m\n\u001b[0m\u001b[0;32m     12\u001b[0m         \u001b[0mdelta\u001b[0m \u001b[1;33m=\u001b[0m \u001b[0mnp\u001b[0m\u001b[1;33m.\u001b[0m\u001b[0mfabs\u001b[0m\u001b[1;33m(\u001b[0m\u001b[1;33m(\u001b[0m\u001b[0mI\u001b[0m\u001b[1;33m[\u001b[0m\u001b[0mi\u001b[0m\u001b[1;33m]\u001b[0m \u001b[1;33m-\u001b[0m \u001b[0mI\u001b[0m\u001b[1;33m[\u001b[0m\u001b[0mi\u001b[0m \u001b[1;33m-\u001b[0m \u001b[1;36m1\u001b[0m\u001b[1;33m]\u001b[0m\u001b[1;33m)\u001b[0m \u001b[1;33m/\u001b[0m \u001b[0mI\u001b[0m\u001b[1;33m[\u001b[0m\u001b[0mi\u001b[0m\u001b[1;33m]\u001b[0m\u001b[1;33m)\u001b[0m\u001b[1;33m\u001b[0m\u001b[1;33m\u001b[0m\u001b[0m\n\u001b[0;32m     13\u001b[0m \u001b[1;33m\u001b[0m\u001b[0m\n",
      "\u001b[1;32m<ipython-input-8-889db35b1597>\u001b[0m in \u001b[0;36mromberg_core\u001b[1;34m(f, a, b, i)\u001b[0m\n\u001b[0;32m      7\u001b[0m     \u001b[0mM\u001b[0m \u001b[1;33m=\u001b[0m \u001b[1;36m0.0\u001b[0m\u001b[1;33m\u001b[0m\u001b[1;33m\u001b[0m\u001b[0m\n\u001b[0;32m      8\u001b[0m     \u001b[1;32mfor\u001b[0m \u001b[0mj\u001b[0m \u001b[1;32min\u001b[0m \u001b[0mrange\u001b[0m\u001b[1;33m(\u001b[0m\u001b[1;36m2\u001b[0m\u001b[1;33m**\u001b[0m\u001b[0mi\u001b[0m\u001b[1;33m)\u001b[0m\u001b[1;33m:\u001b[0m\u001b[1;33m\u001b[0m\u001b[1;33m\u001b[0m\u001b[0m\n\u001b[1;32m----> 9\u001b[1;33m         \u001b[0mM\u001b[0m \u001b[1;33m+=\u001b[0m \u001b[0mf\u001b[0m\u001b[1;33m(\u001b[0m\u001b[0ma\u001b[0m \u001b[1;33m+\u001b[0m \u001b[1;36m0.5\u001b[0m \u001b[1;33m*\u001b[0m \u001b[0mdh\u001b[0m \u001b[1;33m+\u001b[0m \u001b[0mj\u001b[0m \u001b[1;33m*\u001b[0m \u001b[0mdh\u001b[0m\u001b[1;33m)\u001b[0m\u001b[1;33m\u001b[0m\u001b[1;33m\u001b[0m\u001b[0m\n\u001b[0m\u001b[0;32m     10\u001b[0m \u001b[1;33m\u001b[0m\u001b[0m\n\u001b[0;32m     11\u001b[0m     \u001b[1;32mreturn\u001b[0m \u001b[0mK\u001b[0m \u001b[1;33m*\u001b[0m \u001b[0mM\u001b[0m\u001b[1;33m\u001b[0m\u001b[1;33m\u001b[0m\u001b[0m\n",
      "\u001b[1;32m<ipython-input-2-7b831005a464>\u001b[0m in \u001b[0;36mfunc\u001b[1;34m(x)\u001b[0m\n\u001b[0;32m      2\u001b[0m     \u001b[0ma\u001b[0m \u001b[1;33m=\u001b[0m \u001b[1;33m-\u001b[0m\u001b[1;36m2.0\u001b[0m\u001b[1;33m\u001b[0m\u001b[1;33m\u001b[0m\u001b[0m\n\u001b[0;32m      3\u001b[0m     \u001b[0mb\u001b[0m \u001b[1;33m=\u001b[0m \u001b[1;36m10\u001b[0m\u001b[1;33m\u001b[0m\u001b[1;33m\u001b[0m\u001b[0m\n\u001b[1;32m----> 4\u001b[1;33m     \u001b[1;32mreturn\u001b[0m \u001b[1;33m(\u001b[0m\u001b[0mnp\u001b[0m\u001b[1;33m.\u001b[0m\u001b[0mexp\u001b[0m\u001b[1;33m(\u001b[0m\u001b[0ma\u001b[0m\u001b[1;33m*\u001b[0m\u001b[0mx\u001b[0m\u001b[1;33m)\u001b[0m\u001b[1;33m)\u001b[0m \u001b[1;33m*\u001b[0m \u001b[1;33m(\u001b[0m\u001b[0mnp\u001b[0m\u001b[1;33m.\u001b[0m\u001b[0mcos\u001b[0m\u001b[1;33m(\u001b[0m\u001b[0mb\u001b[0m\u001b[1;33m*\u001b[0m\u001b[0mx\u001b[0m\u001b[1;33m)\u001b[0m\u001b[1;33m)\u001b[0m\u001b[1;33m\u001b[0m\u001b[1;33m\u001b[0m\u001b[0m\n\u001b[0m",
      "\u001b[1;31mKeyboardInterrupt\u001b[0m: "
     ]
    }
   ],
   "source": [
    "lower_lim = 0.0 \n",
    "upper_lim = np.pi \n",
    "\n",
    "Answer = func_integral(upper_lim) - func_integral(lower_lim)\n",
    "print(\"Analytical answer = \", Answer)\n",
    "Num_trap = 1000\n",
    "print(\"Trapezoid method = \", trapezoid_method(func, lower_lim, upper_lim, Num_trap), \"using \",\n",
    "      Num_trap, \"intervals\")\n",
    "Num_simp = 2500\n",
    "print(\"Simpson's method = \", simpson_method(func, lower_lim, upper_lim, Num_simp), \"using \",\n",
    "      Num_simp, \"intervals\")\n",
    "tolerance = 1.0e-6\n",
    "RI = romberg_integration(func, lower_lim, upper_lim, tolerance)\n",
    "print(\"Romberg = \", RI, \" with tolerance = \", tolerance)"
   ]
  }
 ],
 "metadata": {
  "kernelspec": {
   "display_name": "Python 3",
   "language": "python",
   "name": "python3"
  },
  "language_info": {
   "codemirror_mode": {
    "name": "ipython",
    "version": 3
   },
   "file_extension": ".py",
   "mimetype": "text/x-python",
   "name": "python",
   "nbconvert_exporter": "python",
   "pygments_lexer": "ipython3",
   "version": "3.8.8"
  }
 },
 "nbformat": 4,
 "nbformat_minor": 5
}
