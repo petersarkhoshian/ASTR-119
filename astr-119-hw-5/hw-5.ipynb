{
 "cells": [
  {
   "cell_type": "markdown",
   "id": "b7854240",
   "metadata": {},
   "source": [
    "# ASTR 119 Homework 5"
   ]
  },
  {
   "cell_type": "markdown",
   "id": "11b25e84",
   "metadata": {},
   "source": [
    "Importing packages"
   ]
  },
  {
   "cell_type": "code",
   "execution_count": null,
   "id": "c96d3812",
   "metadata": {},
   "outputs": [],
   "source": [
    "%matplotlib inline\n",
    "import numpy as np\n",
    "import matplotlib.pyplot as plt"
   ]
  },
  {
   "cell_type": "markdown",
   "id": "4dcf78dd",
   "metadata": {},
   "source": [
    "Define the main function"
   ]
  },
  {
   "cell_type": "code",
   "execution_count": null,
   "id": "a7638c1a",
   "metadata": {},
   "outputs": [],
   "source": [
    "def func(x):\n",
    "    a = -2.0\n",
    "    b = 10\n",
    "    return (np.exp(a*x)) * (np.cos(b*x))"
   ]
  },
  {
   "cell_type": "markdown",
   "id": "9adbfb0c",
   "metadata": {},
   "source": [
    "Define the correct function's integral"
   ]
  },
  {
   "cell_type": "code",
   "execution_count": null,
   "id": "756a3b2a",
   "metadata": {},
   "outputs": [],
   "source": [
    "def func_integral(x):\n",
    "    a = -2.0\n",
    "    b = 10.0\n",
    "    return ((np.exp(a*x)*(5*np.sin(b*x)-np.cos(b*x)))/52)"
   ]
  },
  {
   "cell_type": "markdown",
   "id": "7ddef075",
   "metadata": {},
   "source": [
    "Define the core for the trapezoid method"
   ]
  },
  {
   "cell_type": "code",
   "execution_count": null,
   "id": "930e0331",
   "metadata": {},
   "outputs": [],
   "source": [
    "def trapezoid_core(f, x, h):\n",
    "    return 0.5 * h * ((f(x + h)) + f(x))"
   ]
  },
  {
   "cell_type": "markdown",
   "id": "46217067",
   "metadata": {},
   "source": [
    "Define the trapezoid integration method"
   ]
  },
  {
   "cell_type": "code",
   "execution_count": null,
   "id": "aadafc3c",
   "metadata": {},
   "outputs": [],
   "source": [
    "def trapezoid_method(f, a, b, N):\n",
    "\n",
    "    x = np.linspace(a, b, N)\n",
    "    h = x[1] - x[0]\n",
    "\n",
    "    Fint = 0.0\n",
    "\n",
    "    for i in range(0, len(x) - 1, 1):\n",
    "        Fint += trapezoid_core(f, x[i], h)\n",
    "\n",
    "    return Fint"
   ]
  },
  {
   "cell_type": "markdown",
   "id": "8144f4f4",
   "metadata": {},
   "source": [
    "Define the core for Simpson's method"
   ]
  },
  {
   "cell_type": "code",
   "execution_count": null,
   "id": "94b96f24",
   "metadata": {},
   "outputs": [],
   "source": [
    "def simpson_core(f, x, h):\n",
    "    return h * (f(x) + 4 * f(x + h) + f(x + 2 * h)) / 3."
   ]
  },
  {
   "cell_type": "markdown",
   "id": "ce838e8f",
   "metadata": {},
   "source": [
    "Define Simpson's integration method"
   ]
  },
  {
   "cell_type": "code",
   "execution_count": null,
   "id": "26b47351",
   "metadata": {},
   "outputs": [],
   "source": [
    "def simpson_method(f, a, b, N):\n",
    "\n",
    "    x = np.linspace(a, b, N)\n",
    "    h = x[1] - x[0]\n",
    "\n",
    "    Fint = 0.0\n",
    "\n",
    "    for i in range(0, len(x) - 2, 2):\n",
    "        Fint += simpson_core(f, x[i], h)\n",
    "\n",
    "        if ((N % 2) == 0):\n",
    "            Fint += simpson_core(f, x[-2], 0.5 * h)\n",
    "\n",
    "    return Fint"
   ]
  },
  {
   "cell_type": "markdown",
   "id": "1e3619a1",
   "metadata": {},
   "source": [
    "Define the core for the Romberg method"
   ]
  },
  {
   "cell_type": "code",
   "execution_count": null,
   "id": "ad4838cf",
   "metadata": {},
   "outputs": [],
   "source": [
    "def romberg_core(f, a, b, i):\n",
    "    h = b - a\n",
    "\n",
    "    dh = h / 2.**(i)\n",
    "    K = h / 2.**(i + 1)\n",
    "\n",
    "    M = 0.0\n",
    "    for j in range(2**i):\n",
    "        M += f(a + 0.5 * dh + j * dh)\n",
    "\n",
    "    return K * M"
   ]
  },
  {
   "cell_type": "markdown",
   "id": "8ca36eed",
   "metadata": {},
   "source": [
    "Define the Romberg integration method"
   ]
  },
  {
   "cell_type": "code",
   "execution_count": null,
   "id": "17f22cb0",
   "metadata": {},
   "outputs": [],
   "source": [
    "def romberg_integration(f, a, b, tol):\n",
    "    i = 0\n",
    "    imax = 1000\n",
    "    delta = 100.0 * np.fabs(tol)\n",
    "\n",
    "    I = np.zeros(imax, dtype=float)\n",
    "    I[0] = 0.5 * (b - a) * (f(a) + f(b))\n",
    "    i += 1\n",
    "\n",
    "    while (delta > tol):\n",
    "        I[i] = 0.5 * I[i - 1] + romberg_core(f, a, b, i)\n",
    "        delta = np.fabs((I[i] - I[i - 1]) / I[i])\n",
    "\n",
    "        if (delta > tol):\n",
    "            i += 1\n",
    "            if (i > imax):\n",
    "                print(\"Max iterations reached.\")\n",
    "                raise StopIteration(\"Stopping iterations after \", i)\n",
    "            print(\"Romberg iteration # \", i, \"has error of: \",delta)\n",
    "\n",
    "    return I[i]"
   ]
  },
  {
   "cell_type": "markdown",
   "id": "eaf208b5",
   "metadata": {},
   "source": [
    "Solve for the answers of each integration method"
   ]
  },
  {
   "cell_type": "code",
   "execution_count": null,
   "id": "5cde54c8",
   "metadata": {},
   "outputs": [],
   "source": [
    "lower_lim = 0.0 \n",
    "upper_lim = np.pi \n",
    "\n",
    "Answer = func_integral(upper_lim) - func_integral(lower_lim)\n",
    "print(\"Analytical answer = \", Answer)\n",
    "Num_trap = 1000\n",
    "print(\"Trapezoid method = \", trapezoid_method(func, lower_lim, upper_lim, Num_trap), \"using \",\n",
    "      Num_trap, \"intervals\")\n",
    "Num_simp = 2500\n",
    "print(\"Simpson's method = \", simpson_method(func, lower_lim, upper_lim, Num_simp), \"using \",\n",
    "      Num_simp, \"intervals\")\n",
    "tolerance = 1.0e-6\n",
    "RI = romberg_integration(func, lower_lim, upper_lim, tolerance)\n",
    "print(\"Romberg = \", RI, \" with tolerance = \", tolerance)"
   ]
  },
  {
   "cell_type": "code",
   "execution_count": null,
   "id": "eee36295",
   "metadata": {},
   "outputs": [],
   "source": []
  }
 ],
 "metadata": {
  "kernelspec": {
   "display_name": "Python 3",
   "language": "python",
   "name": "python3"
  },
  "language_info": {
   "codemirror_mode": {
    "name": "ipython",
    "version": 3
   },
   "file_extension": ".py",
   "mimetype": "text/x-python",
   "name": "python",
   "nbconvert_exporter": "python",
   "pygments_lexer": "ipython3",
   "version": "3.8.8"
  }
 },
 "nbformat": 4,
 "nbformat_minor": 5
}
